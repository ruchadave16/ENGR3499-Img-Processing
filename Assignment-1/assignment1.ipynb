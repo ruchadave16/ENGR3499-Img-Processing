{
 "cells": [
  {
   "cell_type": "code",
   "execution_count": null,
   "metadata": {},
   "outputs": [],
   "source": [
    "import numpy as np\n",
    "import cv2 as cv\n",
    "import matplotlib.image as mpimg\n",
    "import matplotlib.pyplot as plt"
   ]
  },
  {
   "cell_type": "markdown",
   "metadata": {},
   "source": [
    "# Assignment 1: Histograms and Binary Images"
   ]
  },
  {
   "cell_type": "markdown",
   "metadata": {},
   "source": [
    "In this assignment, we are tasked with getting acquainted with images of varying resolutions and colors using Python. To do this, we graphed histograms of each image that described all of its pixel values, and then chose a threshold by which we converted the pixels to a binary. Then, we plotted new images using their new binary values and analyzed the result. We worked with the following types of images to achieve this task:\n",
    "- High resolution image (2048 x 1536)\n",
    "- Low resolution image (640 x 480)\n",
    "- Pink filtered image\n",
    "- Yellow filtered image\n",
    "\n",
    "For ease of analysis, we first converted each image into grayscale upon loading them."
   ]
  },
  {
   "cell_type": "code",
   "execution_count": null,
   "metadata": {},
   "outputs": [],
   "source": [
    "# Read all 4 images\n",
    "img1 = cv.imread(\"high_res_2048_1536.jpg\", cv.IMREAD_GRAYSCALE).ravel()\n",
    "img2 = cv.imread(\"low_res_2.jpg\", cv.IMREAD_GRAYSCALE).ravel()\n",
    "img3 = cv.imread(\"pink_filter.jpg\", cv.IMREAD_GRAYSCALE).ravel()\n",
    "img4 = cv.imread(\"yellow_filter.jpg\", cv.IMREAD_GRAYSCALE).ravel()"
   ]
  },
  {
   "cell_type": "markdown",
   "metadata": {},
   "source": [
    "Then we plotted a histogram for each image that counted the number of pixels that had a value between 1-256. "
   ]
  },
  {
   "cell_type": "code",
   "execution_count": null,
   "metadata": {},
   "outputs": [],
   "source": [
    "def plot_histogram(data, colorscale):\n",
    "    '''\n",
    "    Plots a histogram of an image given an array of integers representing the pixel\n",
    "    color, and the max value of the colorgrade scale.\n",
    "\n",
    "    Args:   \n",
    "        data: An array of integers representing each pixel's color value in the photo.\n",
    "        colorscale: An integer representing the max value of the color scale.\n",
    "    '''\n",
    "    plt.hist(data, colorscale, [0, colorscale])\n",
    "    plt.show()\n",
    "\n",
    "# Plot histograms of each image's pixel values from 0-256. \n",
    "plot_histogram(img1, 256)\n",
    "plot_histogram(img2, 256)\n",
    "plot_histogram(img3, 256)\n",
    "plot_histogram(img4, 256)"
   ]
  },
  {
   "cell_type": "markdown",
   "metadata": {},
   "source": [
    "Based off what we see in each image's histogram, we decided to choose a threshold based off the criteria that [BLANK]. We defined a function that would convert each image's pixels into a binary value of either 0 or 256 (white or black) based off the pixel's original color value relation to the threshold. Finally, we print the binary versions of each image. "
   ]
  },
  {
   "cell_type": "code",
   "execution_count": null,
   "metadata": {},
   "outputs": [],
   "source": [
    "def convert_binary(input_data, threshold):\n",
    "    '''\n",
    "    Converts each pixel value to 0 (white) if below a given threshold and 1 (black)\n",
    "    if above a given threshold.\n",
    "    Args:\n",
    "        input_data: An array of integers representing each pixel's color value.\n",
    "        threshold: An integer representing the color value to compare each pixel with.\n",
    "    '''\n",
    "    i = 0\n",
    "    data = []\n",
    "    while i < len(input_data):\n",
    "        if input_data[i] < threshold:\n",
    "            data.append(0)\n",
    "        else:\n",
    "            data.append(255)\n",
    "        i += 1\n",
    "    return data\n",
    "\n",
    "# Convert each image's pixels into binary and print a display of each image.\n",
    "new_img1 = convert_binary(img1, 100)\n",
    "plt.imshow(new_img1.reshape(1536, 2048), cmap=\"gray\")\n",
    "plt.show()\n",
    "\n",
    "new_img2 = convert_binary(img2, 100)\n",
    "plt.imshow(new_img2.reshape(1536, 2048), cmap=\"gray\")\n",
    "plt.show()\n",
    "\n",
    "new_img3 = convert_binary(img3, 100)\n",
    "plt.imshow(new_img3.reshape(1536, 2048), cmap=\"gray\")\n",
    "plt.show()\n",
    "\n",
    "new_img4 = convert_binary(img4, 100)\n",
    "plt.imshow(new_img4.reshape(1536, 2048), cmap=\"gray\")\n",
    "plt.show()"
   ]
  },
  {
   "cell_type": "markdown",
   "metadata": {},
   "source": [
    "After analyzing each of the resulting binary images, we came to the conclusion that thought converting an image into a binary may be useful/beneficial in certain cases, in our case the objects were too muddled and indistinct that image segmentation/feature detection would not be possible, or at least be quite difficult/inaccurate. "
   ]
  }
 ],
 "metadata": {
  "language_info": {
   "name": "python"
  }
 },
 "nbformat": 4,
 "nbformat_minor": 2
}
