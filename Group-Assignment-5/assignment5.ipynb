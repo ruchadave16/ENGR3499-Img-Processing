{
 "cells": [
  {
   "cell_type": "code",
   "execution_count": 1,
   "metadata": {},
   "outputs": [],
   "source": [
    "import cv2 as cv\n",
    "import numpy as np"
   ]
  },
  {
   "cell_type": "markdown",
   "metadata": {},
   "source": [
    "## Question 3"
   ]
  },
  {
   "cell_type": "code",
   "execution_count": 9,
   "metadata": {},
   "outputs": [],
   "source": [
    "img1 = cv.imread(\"shelf.jpg\")\n",
    "img2 = cv.imread(\"book.jpg\")\n",
    "\n",
    "img1= cv.cvtColor(img1, cv.COLOR_BGR2GRAY)\n",
    "img2= cv.cvtColor(img2, cv.COLOR_BGR2GRAY)\n",
    "\n",
    "corners1 = cv.goodFeaturesToTrack(img1, maxCorners=200, qualityLevel=0.01, minDistance=10)\n",
    "corners2 = cv.goodFeaturesToTrack(img2, maxCorners=200, qualityLevel=0.01, minDistance=10)\n",
    "\n",
    "# print(corners1)\n",
    "# print(corners2)\n",
    "\n",
    "for corner in corners1:\n",
    "    x, y = corner.ravel()\n",
    "    cv.circle(img1, (int(x), int(y)), 3, (0, 255, 0), -1)\n",
    "\n",
    "for corner in corners2:\n",
    "    x, y = corner.ravel()\n",
    "    cv.circle(img2, (int(x), int(y)), 3, (0, 255, 0), -1)\n",
    "\n",
    "\n",
    "cv.imshow('Corners', img1)\n",
    "cv.imshow('Corners2', img2) \n",
    "\n",
    "cv.waitKey(0)  # Wait until any key is pressed to close the image\n",
    "cv.destroyAllWindows() "
   ]
  },
  {
   "cell_type": "markdown",
   "metadata": {},
   "source": [
    "I did find that I needed to adjust the value of maxCorners to get better corner accuracy, since any lower would amount to only corners detected in the details of the book such as the words, and anything above 100 would allow me to detect the corners of the book itself. "
   ]
  }
 ],
 "metadata": {
  "kernelspec": {
   "display_name": "Python 3",
   "language": "python",
   "name": "python3"
  },
  "language_info": {
   "codemirror_mode": {
    "name": "ipython",
    "version": 3
   },
   "file_extension": ".py",
   "mimetype": "text/x-python",
   "name": "python",
   "nbconvert_exporter": "python",
   "pygments_lexer": "ipython3",
   "version": "3.10.12"
  }
 },
 "nbformat": 4,
 "nbformat_minor": 2
}
