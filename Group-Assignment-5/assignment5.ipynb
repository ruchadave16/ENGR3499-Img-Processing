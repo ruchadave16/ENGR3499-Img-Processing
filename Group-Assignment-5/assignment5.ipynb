{
 "cells": [
  {
   "cell_type": "code",
   "execution_count": 1,
   "metadata": {},
   "outputs": [],
   "source": [
    "import cv2 as cv\n",
    "import numpy as np"
   ]
  },
  {
   "cell_type": "markdown",
   "metadata": {},
   "source": [
    "## Question 3"
   ]
  },
  {
   "cell_type": "code",
   "execution_count": 12,
   "metadata": {},
   "outputs": [],
   "source": [
    "img1 = cv.imread(\"shelf.jpg\")\n",
    "img2 = cv.imread(\"book.jpg\")\n",
    "img1 = cv.resize(img1, (1024, 768), interpolation=cv.INTER_AREA)\n",
    "\n",
    "img1= cv.cvtColor(img1, cv.COLOR_BGR2GRAY)\n",
    "img2= cv.cvtColor(img2, cv.COLOR_BGR2GRAY)\n",
    "\n",
    "corners1 = cv.goodFeaturesToTrack(img1, maxCorners=200, qualityLevel=0.01, minDistance=10)\n",
    "corners2 = cv.goodFeaturesToTrack(img2, maxCorners=200, qualityLevel=0.01, minDistance=10)\n",
    "\n",
    "# print(corners1)\n",
    "# print(corners2)\n",
    "\n",
    "for corner in corners1:\n",
    "    x, y = corner.ravel()\n",
    "    cv.circle(img1, (int(x), int(y)), 3, (0, 255, 0), -1)\n",
    "\n",
    "for corner in corners2:\n",
    "    x, y = corner.ravel()\n",
    "    cv.circle(img2, (int(x), int(y)), 3, (0, 255, 0), -1)\n",
    "\n",
    "\n",
    "cv.imshow('Corners', img1)\n",
    "cv.imshow('Corners2', img2) \n",
    "\n",
    "cv.waitKey(0)  # Wait until any key is pressed to close the image\n",
    "cv.destroyAllWindows() "
   ]
  },
  {
   "cell_type": "code",
   "execution_count": 11,
   "metadata": {},
   "outputs": [
    {
     "name": "stdout",
     "output_type": "stream",
     "text": [
      "h:307, w; 409\n"
     ]
    }
   ],
   "source": [
    "# img1 = cv.imread(\"shelf.jpg\")\n",
    "h, w = img2.shape\n",
    "print(f\"h:{h}, w; {w}\")"
   ]
  },
  {
   "cell_type": "markdown",
   "metadata": {},
   "source": [
    "I did find that I needed to adjust the value of maxCorners to get better corner accuracy, since any lower would amount to only corners detected in the details of the book such as the words, and anything above 100 would allow me to detect the corners of the book itself. "
   ]
  },
  {
   "cell_type": "markdown",
   "metadata": {},
   "source": [
    "### Question 4"
   ]
  },
  {
   "cell_type": "code",
   "execution_count": 36,
   "metadata": {},
   "outputs": [],
   "source": [
    "img1 = cv.imread(\"shelf.jpg\")\n",
    "img1 = cv.resize(img1, (1024, 768), interpolation=cv.INTER_AREA)\n",
    "\n",
    "edges1 = cv.Canny(img1, 50, 150, apertureSize=3)\n",
    "lines = cv.HoughLinesP(edges1, rho=5, theta=np.pi / 180, threshold=90, minLineLength=10, maxLineGap=10)\n",
    "\n",
    "for line in lines:\n",
    "    x1, y1, x2, y2 = line[0]\n",
    "    cv.line(img1, (x1, y1), (x2, y2), (0, 255, 0), 2)\n",
    "\n",
    "cv.imshow('Line', img1)\n",
    "cv.waitKey(0)\n",
    "cv.destroyAllWindows()\n"
   ]
  },
  {
   "cell_type": "markdown",
   "metadata": {},
   "source": [
    "Increasing rho seemed to increase the number of fine lines that would be detected. When i set rho to 1, the number of lines was less, but more straightforward and detecting the more prominent lines. Increasing it increased the number of lines I would see. Similarly, changing threshold would directly affect how many lines there were, but more in the sense of what would be considered heavy enough to be a line. When I set the threshold high, only edges that were truly obviously line-like would be marked. "
   ]
  }
 ],
 "metadata": {
  "kernelspec": {
   "display_name": "Python 3",
   "language": "python",
   "name": "python3"
  },
  "language_info": {
   "codemirror_mode": {
    "name": "ipython",
    "version": 3
   },
   "file_extension": ".py",
   "mimetype": "text/x-python",
   "name": "python",
   "nbconvert_exporter": "python",
   "pygments_lexer": "ipython3",
   "version": "3.10.12"
  }
 },
 "nbformat": 4,
 "nbformat_minor": 2
}
